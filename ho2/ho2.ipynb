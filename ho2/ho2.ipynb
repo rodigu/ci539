{
 "cells": [
  {
   "cell_type": "markdown",
   "metadata": {},
   "source": [
    "# Hands-on-data #2\n",
    "\n",
    "The goal of this assignment is for you to practice simple visualizations applied to educational data. You can create those visualizations with Excel or any other software of your choice.\n",
    "\n",
    "When submitting the assignment, submit a text document that includes your visualizations as well as explanations for your answers."
   ]
  },
  {
   "cell_type": "markdown",
   "metadata": {},
   "source": [
    "\n",
    "## Question 1 (1.5 point)\n",
    "\n",
    "Draw scatterplots and heatmap for the datasets named [Assignment-2-Scatterplot1.csv](./data/Assignment-2-Scatterplot-1.csv) and [Assignment-2-Scatterplot-2.csv](./data/Assignment-2-Scatterplot-2.csv). In both cases, give a quick description of the distribution of the data points and explain which visualization (scatterplot or heat map) is most appropriate."
   ]
  },
  {
   "cell_type": "code",
   "execution_count": null,
   "metadata": {
    "vscode": {
     "languageId": "plaintext"
    }
   },
   "outputs": [],
   "source": []
  },
  {
   "cell_type": "markdown",
   "metadata": {},
   "source": [
    "## Question 2 (1.5 point)\n",
    "\n",
    "Using the dataset named [ASSISTments-sample.csv](./data/ASSISTments-sample.csv), draw the learning curves for the skills named “Box and Whisker” and “Inverse Relation”. Provide a short description/analysis of each curve."
   ]
  },
  {
   "cell_type": "code",
   "execution_count": null,
   "metadata": {
    "vscode": {
     "languageId": "plaintext"
    }
   },
   "outputs": [],
   "source": []
  },
  {
   "cell_type": "markdown",
   "metadata": {},
   "source": [
    "## Question 3 (2 point)\n",
    "\n",
    "Create a visualization using either the [ASSISTments](./data/ASSISTments-sample.csv) (this can include the features created during Weeks 2-3) or the [Cognitive Tutor](./data/CognitiveTutorAlgebra-gaming-clips.csv) (this can include the features created in Assignment 1) datasets. You are not limited to visualization types seen in class. Feel free to use other types of visualization (for example histograms or pie charts). Explain the goal behind the visualization (what information are you trying to convey) as well as a quick analysis of the result of applying this visualization to the dataset."
   ]
  },
  {
   "cell_type": "markdown",
   "metadata": {},
   "source": []
  }
 ],
 "metadata": {
  "language_info": {
   "name": "python"
  },
  "orig_nbformat": 4
 },
 "nbformat": 4,
 "nbformat_minor": 2
}
