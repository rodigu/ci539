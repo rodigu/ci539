{
 "cells": [
  {
   "cell_type": "code",
   "execution_count": 1,
   "metadata": {},
   "outputs": [],
   "source": [
    "import pandas as pd\n",
    "import hands_on1 as ho1"
   ]
  },
  {
   "cell_type": "markdown",
   "metadata": {},
   "source": [
    "# Hands-on-data #1\n",
    "\n",
    "The goal of this activity is for you to practice designing and computing features on an educational data set. It is suggested that you complete the assignment using Excel, but you are free to use an equivalent tool if you desire. You will be asked to compute specific features and to develop your own.\n",
    "\n",
    "For this assignment, use the `“CognitiveTutorAlgebra-gaming-clips.csv”` file.\n",
    "\n",
    "This file contains a detailed trace of all the interactions that student have within an intelligent tutor called Cognitive Tutor Algebra. This is an intelligent tutor where students need to complete multiple steps in order to solve a problem. Each action is a row in the log file. Each of those actions can be of 4 types: HELP, RIGHT, WRONG, BUG (see the \"assessment\" field).\n",
    "\n",
    "- HELP is when the student requests a hint.\n",
    "- RIGHT is when the student correctly completes one of the step\n",
    "- BUG is when the student's action is incorrect but is a known error (a bug in the student's problem solving process). In such a case, the student is presented with a message explaining the error.\n",
    "- WRONG is when the student's action is incorrect and that action is not a known error (there is no error message associated to it).\n",
    "Regarding the \"action\" field. In this dataset there are different kinds of problem. Most of them are just filling in tables/text fields. In those cases, the “action” field is going to be blank.\n",
    "\n",
    "There are a some problems where the student has an equation and need to isolate a term; for example, 2*x = 8. In that case, the right thing to do would be to divide both sides of the equation by 2. When the students does that, the “action” field should be 'divide' and “input” should be '2'.\n",
    "\n",
    "The \"context\" field, is the element in the user interface that the student is interacting it. For example, you'll see a lot of cases where the context is something of the form 'R1C2'. This would happen when the student interacts with a table and fills in one of the cell. In this example, row 1 and column 2.\n",
    "\n",
    "You'll also see cases where the context is the equation the student is manipulating.\n",
    "\n",
    "When you look at the \"time\" column, you'll notice that it sometimes have the value '-1'. This happens when the action is at the start of a problem or some other similar situation where it’s not possible to look at the previous action. Note that, in the dataset that you have, you don’t have information about the problem id.\n",
    "\n",
    "Finally, the assignment asks you to use the 5 action clips as the grain size. The last column of the data set is called “Gaming clip”. In this dataset, clips of 5 actions have been randomly selected to identify whether students appear to be *gaming the system during those clips.\n",
    "\n",
    "*Gaming the system is a disengaged behavior in which students abuse the help functionalities of the tutor to complete problems without having to understand how to solve it. Examples of gaming behavior include, systematically guessing the answers and abusing help requests.\n",
    "\n",
    "This column is mostly blank, this indicates that the action is not part of one of the randomly selected clips of 5 actions; that is, the action is not labeled yet. Otherwise, you will notice a number. This number is the unique id of one of the selected clips. Each line associated to that number is one of the actions in that clip of 5 actions.\n",
    "\n",
    "You will need to compute features that are aggregated at the clip level (i.e., 5-action clip). This means that you will need to compute the value of the feature within this 5-action clip. The resulting data table should have 1 row per the clip level, and each additional column should be one of the computed features. \n",
    "\n",
    "Address the following questions:\n",
    "\n",
    "## Question 1 (3 point): Compute each of the following 3 features:\n",
    "- AvgTimePerAction: The average time, in seconds, spent on each action included in the clip.\n",
    "- #ContextChanges: The number of times the context (element of the user interface) in which the action took place was different from the previous actions for each action of the clip.\n",
    "- #CorrectActions: The number of times the student executed a correct action within the clip.\n",
    "## Question 2 (2 point): Develop and compute 2 features that might be useful when trying to identify the gaming the system behavior. Provide a meaningful name and a description for both features you created.\n",
    "Then, submit the results as follows: \n",
    "\n",
    "Click 'Reply' in the text box below.\n",
    "Write a description for the features you created for Question 2.\n",
    "Attach the Excel file(s) that includes traces of your computation (e.g. you will need to save your files as .xlsx to keep all the formulas and pivot tables you added in Excel)."
   ]
  },
  {
   "cell_type": "code",
   "execution_count": 2,
   "metadata": {},
   "outputs": [],
   "source": [
    "data=pd.read_csv('./data/CognitiveTutorAlgebra-gaming-clips.csv')"
   ]
  },
  {
   "cell_type": "markdown",
   "metadata": {},
   "source": [
    "# Question 1"
   ]
  },
  {
   "cell_type": "markdown",
   "metadata": {},
   "source": [
    "## AvgTimePerAction\n",
    "\n",
    "The average time, in seconds, spent on each action included in the clip."
   ]
  },
  {
   "cell_type": "code",
   "execution_count": 3,
   "metadata": {},
   "outputs": [],
   "source": [
    "ho1.get_avg_time_per_action(data).to_csv('./data/ho1_avg_time.csv')"
   ]
  },
  {
   "cell_type": "markdown",
   "metadata": {},
   "source": [
    "## ContextChanges\n",
    "\n",
    "The number of times the context (element of the user interface) in which the action took place was different from the previous actions for each action of the clip."
   ]
  },
  {
   "cell_type": "code",
   "execution_count": 4,
   "metadata": {},
   "outputs": [],
   "source": [
    "ho1.context_changes(data).to_csv('./data/ho1_context_changes.csv')"
   ]
  },
  {
   "cell_type": "markdown",
   "metadata": {},
   "source": [
    "## CorrectActions\n",
    "\n",
    "The number of times the student executed a correct action within the clip."
   ]
  },
  {
   "cell_type": "code",
   "execution_count": 5,
   "metadata": {},
   "outputs": [
    {
     "name": "stderr",
     "output_type": "stream",
     "text": [
      "c:\\Users\\rmora\\Documents\\UIUC\\23F\\CI539\\ci539\\hands_on1.py:44: SettingWithCopyWarning: \n",
      "A value is trying to be set on a copy of a slice from a DataFrame.\n",
      "Try using .loc[row_indexer,col_indexer] = value instead\n",
      "\n",
      "See the caveats in the documentation: https://pandas.pydata.org/pandas-docs/stable/user_guide/indexing.html#returning-a-view-versus-a-copy\n",
      "  gaming_data['#CorrectActions'] = (\n"
     ]
    }
   ],
   "source": [
    "ho1.correct_actions(data).to_csv('./data/ho1_correct_actions.csv')"
   ]
  }
 ],
 "metadata": {
  "kernelspec": {
   "display_name": "Python 3",
   "language": "python",
   "name": "python3"
  },
  "language_info": {
   "codemirror_mode": {
    "name": "ipython",
    "version": 3
   },
   "file_extension": ".py",
   "mimetype": "text/x-python",
   "name": "python",
   "nbconvert_exporter": "python",
   "pygments_lexer": "ipython3",
   "version": "3.10.2"
  },
  "orig_nbformat": 4
 },
 "nbformat": 4,
 "nbformat_minor": 2
}
