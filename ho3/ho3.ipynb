{
 "cells": [
  {
   "cell_type": "markdown",
   "metadata": {},
   "source": [
    "# Hands-on-data #3\n",
    "\n",
    "The goal of this assignment is for you to familiarize yourself with different predictive modeling algorithms and with tools that allows you to build predictive models. You will be asked to build regression and classification models using specific algorithms on predefined datasets. You will be asked to reflect on why specific algorithms worked better on specific datasets.\n",
    "\n",
    "When submitting the assignment, include a text document answering the questions as well as RapidMiner process files (save your process as .rmp)."
   ]
  },
  {
   "cell_type": "markdown",
   "metadata": {},
   "source": [
    "## Regressions"
   ]
  },
  {
   "cell_type": "markdown",
   "metadata": {},
   "source": [
    "### Question 1 (0.5 point)\n",
    "\n",
    "Using the dataset named [Assignment3-Q1.csv](./data/Assignment3-Q1.csv), create regression models predicting the value of “label” using the following algorithms and report correlations for each of the models:\n",
    "\n",
    "- Linear Regression (“Linear Regression” operator in RapidMiner)\n",
    "- M5’ (“W-M5P” operator in RapidMiner)"
   ]
  },
  {
   "cell_type": "markdown",
   "metadata": {},
   "source": []
  },
  {
   "cell_type": "markdown",
   "metadata": {},
   "source": [
    "### Question 2 (0.5 point)\n",
    "\n",
    "Which algorithm achieved the highest performance on question 1? Why was that algorithm more successful? Use a visual representation of the data to support your statement."
   ]
  },
  {
   "cell_type": "markdown",
   "metadata": {},
   "source": []
  },
  {
   "cell_type": "markdown",
   "metadata": {},
   "source": [
    "### Question 3 (0.5 point)\n",
    "\n",
    "Using the dataset named [Assignment3-Q3.csv](./data/Assignment3-Q3.csv), create regression models predicting the value of “label” using the following algorithms and report correlations for each of the models:\n",
    "\n",
    "- Linear Regression (“Linear Regression” operator in RapidMiner)\n",
    "- REPTree (“W-REPTree” operator in RapidMiner)\n",
    "- M5’ (“W-M5P” operator in RapidMiner)"
   ]
  },
  {
   "cell_type": "markdown",
   "metadata": {},
   "source": []
  },
  {
   "cell_type": "markdown",
   "metadata": {},
   "source": [
    "### Question 4 (1 points)\n",
    "\n",
    "Using the models created in Question 3, compare the effectiveness and the content of each model.\n",
    "\n",
    "Which model has the highest performance?\n",
    "\n",
    "Compare the Linear Regression and the M5’ models. What are the differences and/or similarities between those two models?\n",
    "\n",
    "What can you conclude about the usefulness of the M5’ algorithm for this dataset? What information does that provide us about the nature of the relationship between the features and the label?\n",
    "\n",
    "Compare the Linear Regression model and the REPTree model. Which one as the highest performance? Which one seems like a more accurate representation of the relationship between the features and the label? Why?"
   ]
  },
  {
   "cell_type": "markdown",
   "metadata": {},
   "source": []
  },
  {
   "cell_type": "markdown",
   "metadata": {},
   "source": [
    "## Classifications"
   ]
  },
  {
   "cell_type": "markdown",
   "metadata": {},
   "source": [
    "### Question 1 (0.5 point)\n",
    "\n",
    "Using the dataset named [Assignment3-Q5.csv](./data/Assignment3-Q5.csv), create classification models predicting the value of “is gaming?” using the following algorithms and report accuracies for each of the models:\n",
    "\n",
    "- Step Regression (“Linear Regression” operator in RapidMiner)\n",
    "- J48 decision tree (“W-J48” operator in RapidMiner) "
   ]
  },
  {
   "cell_type": "markdown",
   "metadata": {},
   "source": []
  },
  {
   "cell_type": "markdown",
   "metadata": {},
   "source": [
    "### Question 2 (1 point)\n",
    "\n",
    "Using the results from Q1, answer the following questions:\n",
    "\n",
    "Which of the two algorithms achieved the highest accuracy? Explain why you think this model was more effective. Discuss how different features (or combination of features) are related to the label and how those relationship can or cannot be captured by the algorithms\n",
    "\n",
    "Even though the accuracy of both model is fairly high, the two models have very different actual performance. Look at the confusion matrix: the table indicating the number of correct and incorrect predictions produced by RapidMiner’s performance operator. Accuracy is computed by looking at the number of true positives (instances of gaming detected as gaming) and true negatives (instances of not-gaming detected as not-gaming) and dividing by the total number of instances; (TP + TN) / total. Try to explain why accuracy might not be the best measure of performance in this dataset."
   ]
  },
  {
   "cell_type": "markdown",
   "metadata": {},
   "source": []
  },
  {
   "cell_type": "markdown",
   "metadata": {},
   "source": [
    "### Question 3 (0.5 point)\n",
    "\n",
    "Using the dataset named [Assignment3-Q7.csv](./data/Assignment3-Q7.csv), create classification models predicting the value of “label” using the following algorithms and report accuracies for each of the models:\n",
    "\n",
    "- Step Regression (“Linear Regression” operator in RapidMiner)\n",
    "- K* (“W-KStar” operator in RapidMiner)"
   ]
  },
  {
   "cell_type": "markdown",
   "metadata": {},
   "source": []
  },
  {
   "cell_type": "markdown",
   "metadata": {},
   "source": [
    "### Question 4 (0.5 point)\n",
    "\n",
    "Which algorithm achieved the highest performance on Question 3? Why was that algorithm more successful? Use a visual representation of the data to support your statement. (Hint: try coloring each data point using a unique color for each label)"
   ]
  },
  {
   "cell_type": "markdown",
   "metadata": {},
   "source": []
  }
 ],
 "metadata": {
  "language_info": {
   "name": "python"
  },
  "orig_nbformat": 4
 },
 "nbformat": 4,
 "nbformat_minor": 2
}
